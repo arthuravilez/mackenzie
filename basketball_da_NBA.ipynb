{
  "nbformat": 4,
  "nbformat_minor": 0,
  "metadata": {
    "colab": {
      "name": "basketball da NBA.ipynb",
      "provenance": [],
      "collapsed_sections": [],
      "authorship_tag": "ABX9TyM0Aj/SyVKNUKqHZKd327lu",
      "include_colab_link": true
    },
    "kernelspec": {
      "name": "python3",
      "display_name": "Python 3"
    },
    "language_info": {
      "name": "python"
    }
  },
  "cells": [
    {
      "cell_type": "markdown",
      "metadata": {
        "id": "view-in-github",
        "colab_type": "text"
      },
      "source": [
        "<a href=\"https://colab.research.google.com/github/arthuravilez/mackenzie/blob/master/basketball_da_NBA.ipynb\" target=\"_parent\"><img src=\"https://colab.research.google.com/assets/colab-badge.svg\" alt=\"Open In Colab\"/></a>"
      ]
    },
    {
      "cell_type": "code",
      "metadata": {
        "id": "Ug7SNvgxRDLf"
      },
      "source": [
        "import pandas as pd\n",
        "import requests\n",
        "from bs4 import BeautifulSoup"
      ],
      "execution_count": 14,
      "outputs": []
    },
    {
      "cell_type": "code",
      "metadata": {
        "colab": {
          "base_uri": "https://localhost:8080/"
        },
        "id": "UhJ8Hxb5RJNQ",
        "outputId": "a518e94e-f9cf-491b-b829-24c6616707cb"
      },
      "source": [
        "req = requests.get('https://www.basketball-reference.com/leagues/NBA_2018_totals.html')\n",
        "if req.status_code == 200:\n",
        "    print('Requisição bem sucedida!')\n",
        "    content = req.content"
      ],
      "execution_count": 15,
      "outputs": [
        {
          "output_type": "stream",
          "name": "stdout",
          "text": [
            "Requisição bem sucedida!\n"
          ]
        }
      ]
    },
    {
      "cell_type": "code",
      "metadata": {
        "id": "aKkhwt3iRN8c"
      },
      "source": [
        "soup = BeautifulSoup(content, 'html.parser')\n",
        "table = soup.find(name='table')"
      ],
      "execution_count": 16,
      "outputs": []
    },
    {
      "cell_type": "code",
      "metadata": {
        "id": "MTlOwFLGRU5R"
      },
      "source": [
        "table_str = str(table)\n",
        "\n",
        "df = pd.read_html(table_str)[0]"
      ],
      "execution_count": 17,
      "outputs": []
    },
    {
      "cell_type": "code",
      "metadata": {
        "id": "ZD4wFtYbScWr"
      },
      "source": [
        "table = soup.find(name='table', attrs={'id':'confs_standings_W'})"
      ],
      "execution_count": 18,
      "outputs": []
    },
    {
      "cell_type": "code",
      "metadata": {
        "colab": {
          "base_uri": "https://localhost:8080/"
        },
        "id": "5sUfZqVuSiTr",
        "outputId": "a85925e4-34f8-4493-87ce-7608713846ba"
      },
      "source": [
        "def scrape_stats(base_url, year_start, year_end):\n",
        "    years = range(year_start,year_end+1,1)\n",
        "\n",
        "    final_df = pd.DataFrame()\n",
        "\n",
        "    for year in years:\n",
        "        print('Extraindo ano {}'.format(year))\n",
        "        req_url = base_url.format(year)\n",
        "        req = requests.get(req_url)\n",
        "        soup = BeautifulSoup(req.content, 'html.parser')\n",
        "        table = soup.find('table', {'id':'totals_stats'})\n",
        "        df = pd.read_html(str(table))[0]\n",
        "        df['Year'] = year\n",
        "        final_df = final_df.append(df)\n",
        "    return final_df\n",
        "url = 'https://www.basketball-reference.com/leagues/NBA_{}_totals.html'\n",
        "df = scrape_stats(url, 2013, 2020)"
      ],
      "execution_count": 19,
      "outputs": [
        {
          "output_type": "stream",
          "name": "stdout",
          "text": [
            "Extraindo ano 2013\n",
            "Extraindo ano 2014\n",
            "Extraindo ano 2015\n",
            "Extraindo ano 2016\n",
            "Extraindo ano 2017\n",
            "Extraindo ano 2018\n",
            "Extraindo ano 2019\n",
            "Extraindo ano 2020\n"
          ]
        }
      ]
    },
    {
      "cell_type": "code",
      "metadata": {
        "id": "vzTL2_59Swlr"
      },
      "source": [
        "drop_indexes = df[df['Rk'] == 'Rk'].index # Pega indexes onde a coluna 'Rk' possui valor 'Rk'\n",
        "df.drop(drop_indexes, inplace=True) # elimina os valores dos index passados da tabela"
      ],
      "execution_count": 20,
      "outputs": []
    },
    {
      "cell_type": "code",
      "metadata": {
        "id": "m1ckkR_LS1Yv"
      },
      "source": [
        "drop_indexes = df[df['Rk'] == 'Rk'].index # Pega indexes onde a coluna 'Rk' possui valor 'Rk'\n",
        "df.drop(drop_indexes, inplace=True) # elimina os valores dos index passados da tabela"
      ],
      "execution_count": 21,
      "outputs": []
    },
    {
      "cell_type": "code",
      "metadata": {
        "colab": {
          "base_uri": "https://localhost:8080/"
        },
        "id": "b9y5uDtnTT_c",
        "outputId": "98fe1293-eade-4c4a-c1f6-86d90a180dbf"
      },
      "source": [
        "print(df.columns)"
      ],
      "execution_count": 22,
      "outputs": [
        {
          "output_type": "stream",
          "name": "stdout",
          "text": [
            "Index(['Rk', 'Player', 'Pos', 'Age', 'Tm', 'G', 'GS', 'MP', 'FG', 'FGA', 'FG%',\n",
            "       '3P', '3PA', '3P%', '2P', '2PA', '2P%', 'eFG%', 'FT', 'FTA', 'FT%',\n",
            "       'ORB', 'DRB', 'TRB', 'AST', 'STL', 'BLK', 'TOV', 'PF', 'PTS', 'Year'],\n",
            "      dtype='object')\n"
          ]
        }
      ]
    },
    {
      "cell_type": "code",
      "metadata": {
        "id": "OmnSFaSMvysn"
      },
      "source": [
        "numeric_cols = df.columns.drop(['Player','Pos','Tm'])\n",
        "df[numeric_cols] = df[numeric_cols].apply(pd.to_numeric)"
      ],
      "execution_count": 23,
      "outputs": []
    },
    {
      "cell_type": "code",
      "metadata": {
        "colab": {
          "base_uri": "https://localhost:8080/"
        },
        "id": "_RFyZBbLxWVq",
        "outputId": "bddcb8fd-bc0b-4323-8869-ca0b098510ba"
      },
      "source": [
        "print(df.dtypes)"
      ],
      "execution_count": 11,
      "outputs": [
        {
          "output_type": "stream",
          "name": "stdout",
          "text": [
            "Rk          int64\n",
            "Player     object\n",
            "Pos        object\n",
            "Age         int64\n",
            "Tm         object\n",
            "G           int64\n",
            "GS          int64\n",
            "MP          int64\n",
            "FG          int64\n",
            "FGA         int64\n",
            "FG%       float64\n",
            "3P          int64\n",
            "3PA         int64\n",
            "3P%       float64\n",
            "2P          int64\n",
            "2PA         int64\n",
            "2P%       float64\n",
            "eFG%      float64\n",
            "FT          int64\n",
            "FTA         int64\n",
            "FT%       float64\n",
            "ORB         int64\n",
            "DRB         int64\n",
            "TRB         int64\n",
            "AST         int64\n",
            "STL         int64\n",
            "BLK         int64\n",
            "TOV         int64\n",
            "PF          int64\n",
            "PTS         int64\n",
            "Year        int64\n",
            "dtype: object\n"
          ]
        }
      ]
    },
    {
      "cell_type": "code",
      "metadata": {
        "colab": {
          "base_uri": "https://localhost:8080/"
        },
        "id": "2jjZgNvZx1bA",
        "outputId": "ed4e3b54-e59f-462e-bd9f-1fb4e9fbbd39"
      },
      "source": [
        "dados = df[['Year', '3PA']].groupby('Year').sum()\n",
        "print(dados.head(10))"
      ],
      "execution_count": 31,
      "outputs": [
        {
          "output_type": "stream",
          "name": "stdout",
          "text": [
            "        3PA\n",
            "Year       \n",
            "2013  41437\n",
            "2014  46072\n",
            "2015  50694\n",
            "2016  49264\n",
            "2017  56534\n",
            "2018  63854\n",
            "2019  75583\n",
            "2020  62635\n"
          ]
        }
      ]
    },
    {
      "cell_type": "code",
      "metadata": {
        "colab": {
          "base_uri": "https://localhost:8080/",
          "height": 328
        },
        "id": "j25hA1alBnFr",
        "outputId": "bacc868d-5460-4908-a43e-1172e8fc49ec"
      },
      "source": [
        "display(dados)"
      ],
      "execution_count": 66,
      "outputs": [
        {
          "output_type": "display_data",
          "data": {
            "text/html": [
              "<div>\n",
              "<style scoped>\n",
              "    .dataframe tbody tr th:only-of-type {\n",
              "        vertical-align: middle;\n",
              "    }\n",
              "\n",
              "    .dataframe tbody tr th {\n",
              "        vertical-align: top;\n",
              "    }\n",
              "\n",
              "    .dataframe thead th {\n",
              "        text-align: right;\n",
              "    }\n",
              "</style>\n",
              "<table border=\"1\" class=\"dataframe\">\n",
              "  <thead>\n",
              "    <tr style=\"text-align: right;\">\n",
              "      <th></th>\n",
              "      <th>3PA</th>\n",
              "    </tr>\n",
              "    <tr>\n",
              "      <th>Year</th>\n",
              "      <th></th>\n",
              "    </tr>\n",
              "  </thead>\n",
              "  <tbody>\n",
              "    <tr>\n",
              "      <th>2013</th>\n",
              "      <td>41437</td>\n",
              "    </tr>\n",
              "    <tr>\n",
              "      <th>2014</th>\n",
              "      <td>46072</td>\n",
              "    </tr>\n",
              "    <tr>\n",
              "      <th>2015</th>\n",
              "      <td>50694</td>\n",
              "    </tr>\n",
              "    <tr>\n",
              "      <th>2016</th>\n",
              "      <td>49264</td>\n",
              "    </tr>\n",
              "    <tr>\n",
              "      <th>2017</th>\n",
              "      <td>56534</td>\n",
              "    </tr>\n",
              "    <tr>\n",
              "      <th>2018</th>\n",
              "      <td>63854</td>\n",
              "    </tr>\n",
              "    <tr>\n",
              "      <th>2019</th>\n",
              "      <td>75583</td>\n",
              "    </tr>\n",
              "    <tr>\n",
              "      <th>2020</th>\n",
              "      <td>62635</td>\n",
              "    </tr>\n",
              "  </tbody>\n",
              "</table>\n",
              "</div>"
            ],
            "text/plain": [
              "        3PA\n",
              "Year       \n",
              "2013  41437\n",
              "2014  46072\n",
              "2015  50694\n",
              "2016  49264\n",
              "2017  56534\n",
              "2018  63854\n",
              "2019  75583\n",
              "2020  62635"
            ]
          },
          "metadata": {}
        }
      ]
    },
    {
      "cell_type": "code",
      "metadata": {
        "colab": {
          "base_uri": "https://localhost:8080/",
          "height": 301
        },
        "id": "FJ6Pb9WKA9Si",
        "outputId": "926373a5-9044-4164-aa1e-39c153fd9e92"
      },
      "source": [
        "graf_linha = sns.lineplot(data = dados, x='Year', y='3PA')\n",
        "plt.title('Arremessos de 3 pontos por ano')\n",
        "plt.show(graf_linha)"
      ],
      "execution_count": 69,
      "outputs": [
        {
          "output_type": "display_data",
          "data": {
            "image/png": "[encoded data removed]",
            "text/plain": [
              "<Figure size 432x288 with 1 Axes>"
            ]
          },
          "metadata": {
            "needs_background": "light"
          }
        }
      ]
    }
  ]
}