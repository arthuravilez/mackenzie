{
  "nbformat": 4,
  "nbformat_minor": 0,
  "metadata": {
    "colab": {
      "name": "Arthur Avilez PL_Python_1_exercicio.ipynb",
      "provenance": [],
      "collapsed_sections": [],
      "include_colab_link": true
    },
    "kernelspec": {
      "name": "python3",
      "display_name": "Python 3"
    },
    "language_info": {
      "name": "python"
    }
  },
  "cells": [
    {
      "cell_type": "markdown",
      "metadata": {
        "id": "view-in-github",
        "colab_type": "text"
      },
      "source": [
        "<a href=\"https://colab.research.google.com/github/arthuravilez/mackenzie/blob/master/Arthur_Avilez_PL_Python_1_exercicio.ipynb\" target=\"_parent\"><img src=\"https://colab.research.google.com/assets/colab-badge.svg\" alt=\"Open In Colab\"/></a>"
      ]
    },
    {
      "cell_type": "markdown",
      "metadata": {
        "id": "pqEhMdFQO3A-"
      },
      "source": [
        "<head>\n",
        "  <meta name=\"author\" content=\"Rogério de Oliveira\">\n",
        "  <meta institution=\"author\" content=\"Universidade Presbiteriana Mackenzie\">\n",
        "</head>\n",
        "\n",
        "<img src=\"http://meusite.mackenzie.br/rogerio/mackenzie_logo/UPM.2_horizontal_vermelho.jpg\" width=300, align=\"right\"> \n",
        "\n",
        "<h1 align=left><font size = 8, style=\"color:rgb(200,0,0)\"><b>Ciência de Dados </b></font></h1> \n",
        "<h1 align=left><font size = 5, style=\"color:rgb(0,0,0)\"><b>Paradigmas de Linguagens de\n",
        "Programação para Ciência de Dados</b></font></h1> \n",
        "\n",
        "# 1 Introdução à Programação Python\n",
        "Professores: *Diego Nogare* & *Rogério de Oliveira* \n",
        "\n",
        "<br>\n",
        "<br>\n",
        "\n",
        "---\n"
      ]
    },
    {
      "cell_type": "markdown",
      "metadata": {
        "id": "42yF1G-yHu98"
      },
      "source": [
        "# Exercícios"
      ]
    },
    {
      "cell_type": "markdown",
      "metadata": {
        "id": "BDm3FTRtWXCY"
      },
      "source": [
        "Em todos os exercícios execute o código abaixo como a primeira instrução e uma única vez para gerar os valores de `letras` e `lista`.\n",
        "\n",
        "Todos exercícios possuem várias soluções possíveis, mas não se preocupe com isso. A melhor solução é primeiro, a que funciona para você!"
      ]
    },
    {
      "cell_type": "code",
      "metadata": {
        "colab": {
          "base_uri": "https://localhost:8080/"
        },
        "id": "xBjopVrbVgb5",
        "outputId": "df6c11aa-3fb0-4139-d8a8-c6c74301550f"
      },
      "source": [
        "import random; \n",
        "from random import choices; \n",
        "import string; random.seed(1234)\n",
        "import numpy as np\n",
        "\n",
        "letras = choices(string.ascii_lowercase,k=100)\n",
        "lista = random.sample(range(1, 10000), 1000)\n",
        "print(np.array(lista).sum() == 5244799) # precisa retornar True!\n",
        "\n"
      ],
      "execution_count": 1,
      "outputs": [
        {
          "output_type": "stream",
          "text": [
            "True\n"
          ],
          "name": "stdout"
        }
      ]
    },
    {
      "cell_type": "markdown",
      "metadata": {
        "id": "XEngnerfXmKX"
      },
      "source": [
        "1. Dos valores [9887, 3233, 813, 883, 1613] quais estão presentes em `lista` e, se presentes, qual o seu índice? "
      ]
    },
    {
      "cell_type": "code",
      "metadata": {
        "id": "8KlbNKnHR6VZ",
        "colab": {
          "base_uri": "https://localhost:8080/"
        },
        "outputId": "1735b7ac-5c30-4f10-c3c8-06facbececd1"
      },
      "source": [
        "# 877, 680, há um valor ausente\n",
        "\n",
        "nova_lista = [9887, 3233, 813]\n",
        "\n",
        "# Verifica se há esses valores na lista\n",
        "print(\"Foram encontrados esses números na lista: \", set(lista)&set(nova_lista))\n",
        "\n",
        "print(f'O índice do valor 9887 é: {lista.index(9887)}')\n",
        "print(f'O índice do valor 3233 é: {lista.index(3233)}')\n",
        "print('Não encontrado número 813 na lista')\n"
      ],
      "execution_count": 2,
      "outputs": [
        {
          "output_type": "stream",
          "text": [
            "Foram encontrados esses números na lista:  {3233, 9887}\n",
            "O índice do valor 9887 é: 877\n",
            "O índice do valor 3233 é: 680\n",
            "Não encontrado número 813 na lista\n"
          ],
          "name": "stdout"
        }
      ]
    },
    {
      "cell_type": "markdown",
      "metadata": {
        "id": "95H7DlB_YARA"
      },
      "source": [
        "2. Quais os dois primeiros valores maiores que 2046 em `lista`?"
      ]
    },
    {
      "cell_type": "code",
      "metadata": {
        "id": "D5HtxhSKagDu",
        "colab": {
          "base_uri": "https://localhost:8080/"
        },
        "outputId": "a4a0dc8b-9abb-49c7-ed0a-1608fbf52156"
      },
      "source": [
        "# 2055 e 2064 são os dois primeiros valores maiores que 2046\n",
        "lista_ordenada = sorted(set(lista), reverse=True)\n",
        "\n",
        "interador = filter(lambda x: (x > 2046), lista_ordenada)\n",
        "numeros = list(interador)\n",
        "\n",
        "doisprimeiros = numeros[-2:]\n",
        "print(doisprimeiros)\n"
      ],
      "execution_count": 4,
      "outputs": [
        {
          "output_type": "stream",
          "text": [
            "[2064, 2055]\n"
          ],
          "name": "stdout"
        }
      ]
    },
    {
      "cell_type": "markdown",
      "metadata": {
        "id": "_i-bSWW9YNa_"
      },
      "source": [
        "3. Quais os valores mínimo e máximo em `lista`? "
      ]
    },
    {
      "cell_type": "code",
      "metadata": {
        "id": "8-6xfJ92agcF",
        "colab": {
          "base_uri": "https://localhost:8080/"
        },
        "outputId": "442af3b4-0580-45e6-b656-1889469d6f59"
      },
      "source": [
        "# 4, 9998\n",
        "maximo = max(lista)\n",
        "minimo = min(lista)\n",
        "\n",
        "print(f'O valor mínimo da lista é: {minimo} e o valor máximo da lista é: {maximo}')\n"
      ],
      "execution_count": 8,
      "outputs": [
        {
          "output_type": "stream",
          "text": [
            "O valor mínimo da lista é: 4 e o valor máximo da lista é: 9998\n"
          ],
          "name": "stdout"
        }
      ]
    },
    {
      "cell_type": "markdown",
      "metadata": {
        "id": "yJOItauOYa-g"
      },
      "source": [
        "4. Quais as 4 letras que mais aparecem em `letras`?\n",
        "\n",
        "<small> ( Existe várias formas de fazer isso, mas fica aqui a sugestão: se você implementar um dicionário *letra:quantidade* poderá empregar a mesma solução na tarefa de aprofundamento! ) </small> "
      ]
    },
    {
      "cell_type": "code",
      "metadata": {
        "id": "48y8A-6Cag6I",
        "colab": {
          "base_uri": "https://localhost:8080/"
        },
        "outputId": "64fd4b3a-84e0-4535-a560-9fc157e09ebd"
      },
      "source": [
        "# k, l, a, n - correto e, v, m, a\n",
        "from collections import Counter\n",
        "\n",
        "counter = Counter(letras)\n",
        "print(counter)\n",
        "print(\"e, v, m, a\")"
      ],
      "execution_count": 20,
      "outputs": [
        {
          "output_type": "stream",
          "text": [
            "Counter({'e': 8, 'v': 8, 'm': 7, 'a': 6, 'u': 6, 'd': 6, 'b': 6, 'h': 6, 'l': 5, 'y': 5, 'p': 4, 'q': 4, 'c': 3, 'i': 3, 'o': 3, 'j': 3, 'n': 3, 'z': 2, 'x': 2, 'r': 2, 'g': 2, 'k': 2, 's': 2, 't': 1, 'w': 1})\n",
            "e, v, m, a\n"
          ],
          "name": "stdout"
        }
      ]
    },
    {
      "cell_type": "markdown",
      "metadata": {
        "id": "cdADnpZFZKxg"
      },
      "source": [
        "5. Qual a soma dos valores pares de `lista`?"
      ]
    },
    {
      "cell_type": "code",
      "metadata": {
        "id": "LnOxIdHWahaI",
        "colab": {
          "base_uri": "https://localhost:8080/"
        },
        "outputId": "8ea7669c-250c-4372-ffd5-8340f46b8a61"
      },
      "source": [
        "# 2687196\n",
        "par = []\n",
        "\n",
        "for i in lista:\n",
        "    if i % 2 == 0:\n",
        "        par.append(i)\n",
        "soma = sum(par)\n",
        "print(f'A soma dos valores pares é {soma}.')\n"
      ],
      "execution_count": 7,
      "outputs": [
        {
          "output_type": "stream",
          "text": [
            "A soma dos valores pares é 2687196.\n"
          ],
          "name": "stdout"
        }
      ]
    }
  ]
}