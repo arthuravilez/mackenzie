{
  "nbformat": 4,
  "nbformat_minor": 0,
  "metadata": {
    "colab": {
      "name": "Arthur Avilez PL_Python_1_exercicio.ipynb",
      "provenance": [],
      "collapsed_sections": [],
      "include_colab_link": true
    },
    "kernelspec": {
      "name": "python3",
      "display_name": "Python 3"
    },
    "language_info": {
      "name": "python"
    }
  },
  "cells": [
    {
      "cell_type": "markdown",
      "metadata": {
        "id": "view-in-github",
        "colab_type": "text"
      },
      "source": [
        "<a href=\"https://colab.research.google.com/github/arthuravilez/mackenzie/blob/master/Arthur_Avilez_PL_Python_1_exercicio.ipynb\" target=\"_parent\"><img src=\"https://colab.research.google.com/assets/colab-badge.svg\" alt=\"Open In Colab\"/></a>"
      ]
    },
    {
      "cell_type": "markdown",
      "metadata": {
        "id": "pqEhMdFQO3A-"
      },
      "source": [
        "<head>\n",
        "  <meta name=\"author\" content=\"Rogério de Oliveira\">\n",
        "  <meta institution=\"author\" content=\"Universidade Presbiteriana Mackenzie\">\n",
        "</head>\n",
        "\n",
        "<img src=\"http://meusite.mackenzie.br/rogerio/mackenzie_logo/UPM.2_horizontal_vermelho.jpg\" width=300, align=\"right\"> \n",
        "\n",
        "<h1 align=left><font size = 8, style=\"color:rgb(200,0,0)\"><b>Ciência de Dados </b></font></h1> \n",
        "<h1 align=left><font size = 5, style=\"color:rgb(0,0,0)\"><b>Paradigmas de Linguagens de\n",
        "Programação para Ciência de Dados</b></font></h1> \n",
        "\n",
        "# 1 Introdução à Programação Python\n",
        "Professores: *Diego Nogare* & *Rogério de Oliveira* \n",
        "\n",
        "<br>\n",
        "<br>\n",
        "\n",
        "---\n"
      ]
    },
    {
      "cell_type": "markdown",
      "metadata": {
        "id": "42yF1G-yHu98"
      },
      "source": [
        "# Exercícios"
      ]
    },
    {
      "cell_type": "markdown",
      "metadata": {
        "id": "BDm3FTRtWXCY"
      },
      "source": [
        "Em todos os exercícios execute o código abaixo como a primeira instrução e uma única vez para gerar os valores de `letras` e `lista`.\n",
        "\n",
        "Todos exercícios possuem várias soluções possíveis, mas não se preocupe com isso. A melhor solução é primeiro, a que funciona para você!"
      ]
    },
    {
      "cell_type": "code",
      "metadata": {
        "colab": {
          "base_uri": "https://localhost:8080/"
        },
        "id": "xBjopVrbVgb5",
        "outputId": "362c6c3e-ef5f-4c89-bf32-d3a7a7cf46a3"
      },
      "source": [
        "import random; \n",
        "from random import choices; \n",
        "import string; random.seed(1234)\n",
        "import numpy as np\n",
        "\n",
        "letras = choices(string.ascii_lowercase,k=100)\n",
        "lista = random.sample(range(1, 10000), 1000)\n",
        "print(np.array(lista).sum() == 5244799) # precisa retornar True!\n",
        "\n"
      ],
      "execution_count": null,
      "outputs": [
        {
          "output_type": "stream",
          "text": [
            "True\n"
          ],
          "name": "stdout"
        }
      ]
    },
    {
      "cell_type": "markdown",
      "metadata": {
        "id": "XEngnerfXmKX"
      },
      "source": [
        "1. Dos valores [9887, 3233, 813, 883, 1613] quais estão presentes em `lista` e, se presentes, qual o seu índice? "
      ]
    },
    {
      "cell_type": "code",
      "metadata": {
        "id": "8KlbNKnHR6VZ",
        "colab": {
          "base_uri": "https://localhost:8080/"
        },
        "outputId": "125f7882-d0f2-43b0-800b-156d43dee1c5"
      },
      "source": [
        "# 877, 680, há um valor ausente\n",
        "# https://www.delftstack.com/pt/howto/python/compare-lists-python/\n",
        "\n",
        "\n",
        "nova_lista = [9887, 3233, 813]\n",
        "\n",
        "# Verifica se há esses valores na lista\n",
        "print(\"Foram encontrados esses números na lista: \", set(lista)&set(nova_lista))\n",
        "\n",
        "print(f'O índice do valor 9887 é: {lista.index(9887)}')\n",
        "print(f'O índice do valor 3233 é: {lista.index(3233)}')\n",
        "print('Não encontrado número 813 na lista')\n"
      ],
      "execution_count": null,
      "outputs": [
        {
          "output_type": "stream",
          "text": [
            "Foram encontrados esses números na lista:  {3233, 9887}\n",
            "O índice do valor 9887 é: 877\n",
            "O índice do valor 3233 é: 680\n",
            "Não encontrado número 813 na lista\n"
          ],
          "name": "stdout"
        }
      ]
    },
    {
      "cell_type": "markdown",
      "metadata": {
        "id": "95H7DlB_YARA"
      },
      "source": [
        "2. Quais os dois primeiros valores maiores que 2046 em `lista`?"
      ]
    },
    {
      "cell_type": "code",
      "metadata": {
        "id": "D5HtxhSKagDu",
        "colab": {
          "base_uri": "https://localhost:8080/"
        },
        "outputId": "39c079e1-ef2d-4ebb-970b-0445f72d5f5d"
      },
      "source": [
        "# 2055 e 2064 são os dois primeiros valores maiores que 2046\n",
        "lista_ordenada = sorted(set(lista), reverse=True)\n",
        "\n",
        "# print(f'O índice do valor 2046 é: {lista.index(2046)}') não existe o número 2046\n",
        "print(lista_ordenada)\n"
      ],
      "execution_count": null,
      "outputs": [
        {
          "output_type": "stream",
          "text": [
            "[9998, 9996, 9990, 9988, 9985, 9980, 9971, 9957, 9955, 9942, 9933, 9931, 9921, 9915, 9897, 9892, 9888, 9887, 9875, 9867, 9866, 9857, 9849, 9839, 9829, 9818, 9811, 9802, 9799, 9794, 9775, 9773, 9745, 9738, 9737, 9725, 9711, 9706, 9692, 9691, 9680, 9664, 9657, 9654, 9649, 9635, 9634, 9628, 9626, 9621, 9616, 9607, 9599, 9589, 9586, 9585, 9577, 9553, 9551, 9545, 9529, 9518, 9504, 9500, 9496, 9493, 9491, 9489, 9482, 9479, 9478, 9473, 9466, 9454, 9450, 9443, 9441, 9439, 9434, 9433, 9413, 9412, 9395, 9392, 9386, 9372, 9357, 9339, 9337, 9318, 9312, 9307, 9306, 9287, 9277, 9276, 9257, 9244, 9235, 9222, 9217, 9214, 9204, 9198, 9193, 9183, 9179, 9178, 9146, 9138, 9136, 9102, 9101, 9100, 9098, 9067, 9037, 9035, 9010, 8996, 8983, 8980, 8972, 8968, 8952, 8947, 8933, 8917, 8914, 8911, 8906, 8899, 8889, 8876, 8858, 8856, 8839, 8834, 8825, 8807, 8802, 8790, 8784, 8767, 8755, 8750, 8749, 8727, 8722, 8707, 8698, 8694, 8686, 8680, 8669, 8661, 8644, 8643, 8639, 8615, 8614, 8600, 8591, 8571, 8566, 8560, 8557, 8556, 8541, 8519, 8511, 8510, 8505, 8504, 8502, 8497, 8496, 8495, 8494, 8490, 8483, 8480, 8449, 8443, 8439, 8427, 8421, 8408, 8403, 8400, 8385, 8376, 8361, 8343, 8331, 8330, 8305, 8303, 8298, 8296, 8290, 8274, 8264, 8249, 8244, 8242, 8229, 8223, 8222, 8210, 8207, 8201, 8188, 8186, 8185, 8183, 8140, 8091, 8090, 8087, 8074, 8072, 8037, 8034, 8033, 8028, 8018, 8004, 7998, 7989, 7966, 7956, 7954, 7944, 7909, 7896, 7885, 7883, 7868, 7858, 7839, 7832, 7831, 7823, 7800, 7798, 7796, 7786, 7774, 7749, 7741, 7734, 7720, 7695, 7690, 7682, 7680, 7669, 7667, 7666, 7639, 7630, 7590, 7551, 7530, 7520, 7505, 7495, 7486, 7477, 7467, 7463, 7462, 7450, 7444, 7443, 7422, 7411, 7408, 7407, 7405, 7392, 7384, 7366, 7359, 7342, 7326, 7313, 7306, 7302, 7301, 7296, 7292, 7285, 7280, 7279, 7271, 7268, 7248, 7246, 7242, 7235, 7219, 7214, 7197, 7166, 7140, 7134, 7129, 7123, 7120, 7107, 7098, 7091, 7087, 7067, 7065, 7061, 7047, 7031, 7028, 7017, 6998, 6987, 6985, 6968, 6960, 6950, 6947, 6944, 6937, 6920, 6917, 6915, 6910, 6901, 6890, 6874, 6868, 6865, 6852, 6841, 6840, 6829, 6811, 6800, 6789, 6770, 6761, 6744, 6740, 6738, 6735, 6732, 6725, 6722, 6708, 6707, 6695, 6692, 6690, 6688, 6673, 6660, 6650, 6644, 6626, 6608, 6603, 6580, 6579, 6562, 6555, 6549, 6533, 6527, 6512, 6506, 6499, 6495, 6476, 6472, 6465, 6457, 6445, 6442, 6426, 6419, 6417, 6414, 6406, 6405, 6371, 6362, 6355, 6318, 6306, 6299, 6289, 6246, 6245, 6235, 6225, 6223, 6222, 6216, 6210, 6205, 6190, 6178, 6171, 6157, 6154, 6152, 6150, 6144, 6112, 6110, 6101, 6096, 6093, 6092, 6090, 6086, 6069, 6055, 6053, 6048, 6041, 6037, 6028, 6007, 6001, 5982, 5974, 5963, 5956, 5951, 5947, 5946, 5924, 5919, 5915, 5900, 5893, 5890, 5882, 5871, 5862, 5843, 5824, 5818, 5816, 5798, 5783, 5780, 5776, 5727, 5717, 5715, 5709, 5699, 5698, 5677, 5674, 5672, 5660, 5654, 5618, 5616, 5614, 5602, 5576, 5570, 5567, 5565, 5556, 5540, 5532, 5529, 5512, 5504, 5503, 5496, 5494, 5484, 5481, 5477, 5469, 5455, 5436, 5434, 5427, 5425, 5417, 5414, 5413, 5392, 5384, 5363, 5356, 5350, 5343, 5336, 5330, 5320, 5316, 5304, 5296, 5285, 5280, 5261, 5236, 5226, 5210, 5199, 5194, 5188, 5182, 5178, 5169, 5167, 5164, 5159, 5148, 5141, 5140, 5139, 5129, 5125, 5108, 5104, 5087, 5046, 5045, 5036, 5023, 5008, 5005, 5001, 5000, 4999, 4990, 4989, 4961, 4960, 4945, 4938, 4932, 4927, 4912, 4893, 4890, 4885, 4884, 4876, 4874, 4858, 4839, 4831, 4827, 4814, 4811, 4804, 4800, 4787, 4786, 4776, 4772, 4770, 4769, 4746, 4745, 4737, 4726, 4725, 4700, 4693, 4690, 4674, 4649, 4625, 4618, 4609, 4589, 4572, 4570, 4568, 4556, 4553, 4537, 4535, 4534, 4501, 4493, 4480, 4472, 4470, 4465, 4461, 4459, 4449, 4404, 4402, 4399, 4398, 4395, 4383, 4375, 4372, 4369, 4363, 4359, 4335, 4321, 4315, 4300, 4294, 4284, 4283, 4280, 4267, 4266, 4256, 4255, 4218, 4214, 4211, 4210, 4207, 4201, 4193, 4180, 4174, 4163, 4111, 4092, 4085, 4078, 4059, 4050, 4019, 4013, 4005, 3995, 3988, 3986, 3966, 3961, 3917, 3916, 3892, 3884, 3874, 3872, 3855, 3837, 3811, 3810, 3802, 3780, 3775, 3773, 3762, 3757, 3735, 3713, 3676, 3665, 3660, 3637, 3607, 3598, 3581, 3574, 3570, 3556, 3544, 3505, 3482, 3478, 3475, 3472, 3470, 3437, 3431, 3421, 3420, 3410, 3394, 3380, 3377, 3376, 3361, 3360, 3343, 3331, 3308, 3295, 3292, 3286, 3275, 3271, 3248, 3236, 3233, 3224, 3219, 3212, 3207, 3195, 3189, 3188, 3184, 3146, 3142, 3135, 3115, 3105, 3103, 3089, 3086, 3041, 3040, 3039, 3033, 3014, 3000, 2994, 2992, 2961, 2959, 2945, 2935, 2917, 2902, 2889, 2881, 2869, 2863, 2855, 2853, 2852, 2829, 2806, 2803, 2795, 2778, 2773, 2769, 2750, 2748, 2745, 2725, 2719, 2717, 2709, 2705, 2692, 2689, 2686, 2663, 2662, 2642, 2616, 2604, 2598, 2592, 2586, 2583, 2576, 2559, 2558, 2540, 2537, 2508, 2502, 2481, 2430, 2424, 2407, 2402, 2395, 2385, 2375, 2374, 2372, 2342, 2341, 2340, 2318, 2295, 2294, 2293, 2289, 2273, 2246, 2244, 2235, 2210, 2190, 2189, 2174, 2173, 2171, 2161, 2154, 2146, 2125, 2118, 2113, 2082, 2081, 2064, 2055, 2033, 2030, 2023, 2016, 1974, 1973, 1960, 1907, 1883, 1864, 1828, 1823, 1822, 1769, 1768, 1748, 1745, 1739, 1733, 1728, 1726, 1700, 1681, 1667, 1660, 1658, 1643, 1635, 1613, 1597, 1591, 1586, 1580, 1573, 1563, 1562, 1558, 1554, 1541, 1537, 1522, 1512, 1490, 1478, 1471, 1462, 1448, 1440, 1437, 1436, 1435, 1407, 1392, 1379, 1358, 1348, 1332, 1328, 1319, 1314, 1311, 1290, 1262, 1251, 1247, 1240, 1224, 1202, 1197, 1188, 1186, 1167, 1162, 1161, 1150, 1143, 1134, 1131, 1126, 1120, 1118, 1095, 1086, 1081, 1069, 1053, 1046, 1045, 1041, 1037, 1036, 1035, 1034, 1020, 1013, 1012, 1009, 997, 989, 983, 982, 960, 951, 948, 921, 913, 899, 889, 887, 861, 860, 858, 816, 812, 788, 787, 784, 764, 742, 741, 732, 723, 703, 690, 680, 677, 670, 668, 654, 647, 636, 623, 614, 613, 596, 581, 565, 542, 533, 530, 519, 518, 513, 512, 501, 499, 489, 482, 472, 465, 464, 458, 449, 446, 441, 428, 425, 397, 345, 342, 331, 317, 298, 296, 294, 292, 290, 280, 276, 272, 244, 201, 182, 173, 157, 146, 144, 140, 127, 110, 53, 41, 31, 28, 4]\n"
          ],
          "name": "stdout"
        }
      ]
    },
    {
      "cell_type": "markdown",
      "metadata": {
        "id": "_i-bSWW9YNa_"
      },
      "source": [
        "3. Quais os valores mínimo e máximo em `lista`? "
      ]
    },
    {
      "cell_type": "code",
      "metadata": {
        "id": "8-6xfJ92agcF",
        "colab": {
          "base_uri": "https://localhost:8080/"
        },
        "outputId": "76e22aeb-7495-43c6-a519-82c4e2988628"
      },
      "source": [
        "# 4, 9998\n",
        "maximo = max(lista)\n",
        "minimo = min(lista)\n",
        "\n",
        "print(minimo, maximo)\n"
      ],
      "execution_count": null,
      "outputs": [
        {
          "output_type": "stream",
          "text": [
            "4 9998\n"
          ],
          "name": "stdout"
        }
      ]
    },
    {
      "cell_type": "markdown",
      "metadata": {
        "id": "yJOItauOYa-g"
      },
      "source": [
        "4. Quais as 4 letras que mais aparecem em `letras`?\n",
        "\n",
        "<small> ( Existe várias formas de fazer isso, mas fica aqui a sugestão: se você implementar um dicionário *letra:quantidade* poderá empregar a mesma solução na tarefa de aprofundamento! ) </small> "
      ]
    },
    {
      "cell_type": "code",
      "metadata": {
        "id": "48y8A-6Cag6I",
        "colab": {
          "base_uri": "https://localhost:8080/"
        },
        "outputId": "c342515e-1063-421a-8613-07a3c93c9d6d"
      },
      "source": [
        "# k, l, a, n\n",
        "from collections import Counter\n",
        "\n",
        "counter = Counter(letras)\n",
        "print(counter)\n"
      ],
      "execution_count": null,
      "outputs": [
        {
          "output_type": "stream",
          "text": [
            "Counter({'e': 8, 'v': 8, 'm': 7, 'a': 6, 'u': 6, 'd': 6, 'b': 6, 'h': 6, 'l': 5, 'y': 5, 'p': 4, 'q': 4, 'c': 3, 'i': 3, 'o': 3, 'j': 3, 'n': 3, 'z': 2, 'x': 2, 'r': 2, 'g': 2, 'k': 2, 's': 2, 't': 1, 'w': 1})\n"
          ],
          "name": "stdout"
        }
      ]
    },
    {
      "cell_type": "markdown",
      "metadata": {
        "id": "cdADnpZFZKxg"
      },
      "source": [
        "5. Qual a soma dos valores pares de `lista`?"
      ]
    },
    {
      "cell_type": "code",
      "metadata": {
        "id": "LnOxIdHWahaI",
        "colab": {
          "base_uri": "https://localhost:8080/"
        },
        "outputId": "e76ed8b1-4d87-4486-ad6c-cd3df0197066"
      },
      "source": [
        "# 2687196\n",
        "par = []\n",
        "\n",
        "for i in lista:\n",
        "    if i % 2 == 0:\n",
        "        par.append(i)\n",
        "soma = sum(par)\n",
        "print(f'A soma dos valores pares é {soma}.')\n"
      ],
      "execution_count": null,
      "outputs": [
        {
          "output_type": "stream",
          "text": [
            "A soma dos valores pares é 2687196.\n"
          ],
          "name": "stdout"
        }
      ]
    }
  ]
}