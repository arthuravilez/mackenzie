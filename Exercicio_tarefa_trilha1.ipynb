{
  "nbformat": 4,
  "nbformat_minor": 0,
  "metadata": {
    "colab": {
      "name": "Exercicio-tarefa-trilha1.ipynb",
      "provenance": [],
      "authorship_tag": "ABX9TyN+DBy7lz64opzSFqGftPQM",
      "include_colab_link": true
    },
    "kernelspec": {
      "name": "python3",
      "display_name": "Python 3"
    },
    "language_info": {
      "name": "python"
    }
  },
  "cells": [
    {
      "cell_type": "markdown",
      "metadata": {
        "id": "view-in-github",
        "colab_type": "text"
      },
      "source": [
        "<a href=\"https://colab.research.google.com/github/arthuravilez/mackenzie/blob/master/Exercicio_tarefa_trilha1.ipynb\" target=\"_parent\"><img src=\"https://colab.research.google.com/assets/colab-badge.svg\" alt=\"Open In Colab\"/></a>"
      ]
    },
    {
      "cell_type": "markdown",
      "metadata": {
        "id": "pjtkF9TDAA-p"
      },
      "source": [
        "# **VALIDAÇÃO DA LEI DE ZIPF POR PLOTAGEM DE FREQÜÊNCIA DE PALAVRAS**\n",
        "A distribuição de frequência de palavras pode ser considerada como uma das análises estatísticas básicas que podem ser feitas em dados de texto.\n",
        "A Lei de Zipf é uma distribuição de probabilidade discreta para a frequência das palavras no corpus ou, em outros termos, probabilidade de encontrar uma palavra no corpus. A classificação é feita de forma que a classificação 1 seja atribuída à palavra mais frequente, a classificação 2 à próxima frequente e assim por diante. Isso também indica que a lei de Zipf segue a distribuição da lei de potência.\n",
        "![imagem zepfs_mini.png](data:image/png;base64,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)"
      ]
    },
    {
      "cell_type": "markdown",
      "metadata": {
        "id": "dAbhPswuDZ8L"
      },
      "source": [
        "Como você pode ver no gráfico acima, as palavras do Language Builder (por exemplo: is, an, the) ou palavras que podem ser chamadas de Palavras de parada seriam as palavras mais frequentes em seu conjunto de dados e as palavras menos significativas, uma vez que não adicione qualquer informação útil."
      ]
    },
    {
      "cell_type": "markdown",
      "metadata": {
        "id": "BvAzXunjDtSM"
      },
      "source": [
        "Neste bloco de notas, podemos validar a lei de Zipf, se ela se aplica ao nosso gráfico traçando as frequências das palavras."
      ]
    },
    {
      "cell_type": "code",
      "metadata": {
        "id": "L9y5cq9IEDiW"
      },
      "source": [
        "# Importando as bibliotecas\n",
        "import numpy as np\n",
        "import pandas as pd\n",
        "import matplotlib.pyplot as plt\n",
        "import seaborn as sns\n",
        "\n",
        "#Importando o módulo de string\n",
        "import string\n",
        "from nltk import FreqDist\n",
        "from nltk.corpus import stopwords\n"
      ],
      "execution_count": 1,
      "outputs": []
    },
    {
      "cell_type": "code",
      "metadata": {
        "id": "fQv0yvYwE6BW"
      },
      "source": [
        "#Para ignorar mensagens de aviso\n",
        "import warnings\n",
        "warnings.filterwarnings('ignore')"
      ],
      "execution_count": 2,
      "outputs": []
    },
    {
      "cell_type": "code",
      "metadata": {
        "id": "XzZc11StFAq2"
      },
      "source": [
        "#Para exibir a coluna de texto completo em vez de truncá-la\n",
        "pd.set_option('display.max_colwidth', -1)"
      ],
      "execution_count": 3,
      "outputs": []
    },
    {
      "cell_type": "code",
      "metadata": {
        "id": "U2wKw2zNFGer"
      },
      "source": [
        "#Lendo o arquivo do treino.csv\n",
        "df = pd.read_csv(\"treino.csv\")"
      ],
      "execution_count": 4,
      "outputs": []
    },
    {
      "cell_type": "code",
      "metadata": {
        "colab": {
          "base_uri": "https://localhost:8080/",
          "height": 275
        },
        "id": "OiiQOz8pFfx9",
        "outputId": "9e36625c-77d7-4b90-f748-ba1156ce7d38"
      },
      "source": [
        "#Dataframe\n",
        "df.head()"
      ],
      "execution_count": 5,
      "outputs": [
        {
          "output_type": "execute_result",
          "data": {
            "text/html": [
              "<div>\n",
              "<style scoped>\n",
              "    .dataframe tbody tr th:only-of-type {\n",
              "        vertical-align: middle;\n",
              "    }\n",
              "\n",
              "    .dataframe tbody tr th {\n",
              "        vertical-align: top;\n",
              "    }\n",
              "\n",
              "    .dataframe thead th {\n",
              "        text-align: right;\n",
              "    }\n",
              "</style>\n",
              "<table border=\"1\" class=\"dataframe\">\n",
              "  <thead>\n",
              "    <tr style=\"text-align: right;\">\n",
              "      <th></th>\n",
              "      <th>id</th>\n",
              "      <th>text</th>\n",
              "      <th>author</th>\n",
              "    </tr>\n",
              "  </thead>\n",
              "  <tbody>\n",
              "    <tr>\n",
              "      <th>0</th>\n",
              "      <td>id26305</td>\n",
              "      <td>This process, however, afforded me no means of ascertaining the dimensions of my dungeon; as I might make its circuit, and return to the point whence I set out, without being aware of the fact; so perfectly uniform seemed the wall.</td>\n",
              "      <td>EAP</td>\n",
              "    </tr>\n",
              "    <tr>\n",
              "      <th>1</th>\n",
              "      <td>id17569</td>\n",
              "      <td>It never once occurred to me that the fumbling might be a mere mistake.</td>\n",
              "      <td>HPL</td>\n",
              "    </tr>\n",
              "    <tr>\n",
              "      <th>2</th>\n",
              "      <td>id11008</td>\n",
              "      <td>In his left hand was a gold snuff box, from which, as he capered down the hill, cutting all manner of fantastic steps, he took snuff incessantly with an air of the greatest possible self satisfaction.</td>\n",
              "      <td>EAP</td>\n",
              "    </tr>\n",
              "    <tr>\n",
              "      <th>3</th>\n",
              "      <td>id27763</td>\n",
              "      <td>How lovely is spring As we looked from Windsor Terrace on the sixteen fertile counties spread beneath, speckled by happy cottages and wealthier towns, all looked as in former years, heart cheering and fair.</td>\n",
              "      <td>MWS</td>\n",
              "    </tr>\n",
              "    <tr>\n",
              "      <th>4</th>\n",
              "      <td>id12958</td>\n",
              "      <td>Finding nothing else, not even gold, the Superintendent abandoned his attempts; but a perplexed look occasionally steals over his countenance as he sits thinking at his desk.</td>\n",
              "      <td>HPL</td>\n",
              "    </tr>\n",
              "  </tbody>\n",
              "</table>\n",
              "</div>"
            ],
            "text/plain": [
              "        id  ... author\n",
              "0  id26305  ...  EAP  \n",
              "1  id17569  ...  HPL  \n",
              "2  id11008  ...  EAP  \n",
              "3  id27763  ...  MWS  \n",
              "4  id12958  ...  HPL  \n",
              "\n",
              "[5 rows x 3 columns]"
            ]
          },
          "metadata": {
            "tags": []
          },
          "execution_count": 5
        }
      ]
    },
    {
      "cell_type": "code",
      "metadata": {
        "colab": {
          "base_uri": "https://localhost:8080/"
        },
        "id": "FYdZBNXtRkz3",
        "outputId": "0083a7ac-3d76-45db-b1bc-579a3cda6ba1"
      },
      "source": [
        "#Dimensão do dataframe\n",
        "df.shape"
      ],
      "execution_count": 6,
      "outputs": [
        {
          "output_type": "execute_result",
          "data": {
            "text/plain": [
              "(5, 3)"
            ]
          },
          "metadata": {
            "tags": []
          },
          "execution_count": 6
        }
      ]
    },
    {
      "cell_type": "code",
      "metadata": {
        "colab": {
          "base_uri": "https://localhost:8080/"
        },
        "id": "ZA3kiVmTRtNQ",
        "outputId": "3fd97a1a-cc29-4fcd-be41-f6a135761b8b"
      },
      "source": [
        "#Python fornece uma constante chamada string.punctuation que fornece uma grande lista de caracteres de pontuação. \n",
        "print(string.punctuation)"
      ],
      "execution_count": 7,
      "outputs": [
        {
          "output_type": "stream",
          "text": [
            "!\"#$%&'()*+,-./:;<=>?@[\\]^_`{|}~\n"
          ],
          "name": "stdout"
        }
      ]
    },
    {
      "cell_type": "code",
      "metadata": {
        "id": "ay_JOD9uRxwy"
      },
      "source": [
        "def remove_pontuacao(input_col):\n",
        "    \"\"\"Para remover todas as pontuações presentes no texto. Insira a coluna de texto\"\"\"\n",
        "    table = str.maketrans('','',string.punctuation)\n",
        "    return input_col.translate(table)"
      ],
      "execution_count": 8,
      "outputs": []
    },
    {
      "cell_type": "code",
      "metadata": {
        "id": "yO16Pc-ER14E"
      },
      "source": [
        "#Aplicando a função remove_pontuacao\n",
        "df['text'] = df['text'].apply(remove_pontuacao)"
      ],
      "execution_count": 9,
      "outputs": []
    },
    {
      "cell_type": "code",
      "metadata": {
        "id": "smOKgx7PR6OU"
      },
      "source": [
        "def constroi_campo(text_col):\n",
        "    \"\"\"Para construir o campo de texto juntando todos os registros. Insira a coluna de texto\"\"\"\n",
        "    campo = \"\"\n",
        "    for sent in text_col:\n",
        "        campo += sent\n",
        "    return campo"
      ],
      "execution_count": 22,
      "outputs": []
    },
    {
      "cell_type": "code",
      "metadata": {
        "id": "juefujX2R9Tw"
      },
      "source": [
        "#Construindo o campo\n",
        "campo = build_corpus(df['text'])"
      ],
      "execution_count": 23,
      "outputs": []
    },
    {
      "cell_type": "code",
      "metadata": {
        "id": "j9j_DRV0SAqS"
      },
      "source": [
        "#Convertendo todas as palavras em minúsculas\n",
        "campo = campo.lower()"
      ],
      "execution_count": 24,
      "outputs": []
    },
    {
      "cell_type": "code",
      "metadata": {
        "colab": {
          "base_uri": "https://localhost:8080/",
          "height": 122
        },
        "id": "_bYwAv4bSD-p",
        "outputId": "d3c82888-ef46-4a92-fff9-5b1264c2a8d7"
      },
      "source": [
        "#Alguma parte do Text campo\n",
        "campo[:1000]"
      ],
      "execution_count": 25,
      "outputs": [
        {
          "output_type": "execute_result",
          "data": {
            "application/vnd.google.colaboratory.intrinsic+json": {
              "type": "string"
            },
            "text/plain": [
              "'this process however afforded me no means of ascertaining the dimensions of my dungeon as i might make its circuit and return to the point whence i set out without being aware of the fact so perfectly uniform seemed the wallit never once occurred to me that the fumbling might be a mere mistakein his left hand was a gold snuff box from which as he capered down the hill cutting all manner of fantastic steps he took snuff incessantly with an air of the greatest possible self satisfactionhow lovely is spring as we looked from windsor terrace on the sixteen fertile counties spread beneath speckled by happy cottages and wealthier towns all looked as in former years heart cheering and fairfinding nothing else not even gold the superintendent abandoned his attempts but a perplexed look occasionally steals over his countenance as he sits thinking at his desk'"
            ]
          },
          "metadata": {
            "tags": []
          },
          "execution_count": 25
        }
      ]
    },
    {
      "cell_type": "markdown",
      "metadata": {
        "id": "N_COP5PESOBU"
      },
      "source": [
        "Se você olhar o campo, verá que estamos tendo o campo de texto limpo a partir de agora. Iremos em frente e criaremos uma lista de palavras agora."
      ]
    },
    {
      "cell_type": "code",
      "metadata": {
        "id": "mBbB9JlvSJ9a"
      },
      "source": [
        "#Dividindo todo o campo\n",
        "campo = campo.split()"
      ],
      "execution_count": 26,
      "outputs": []
    },
    {
      "cell_type": "code",
      "metadata": {
        "colab": {
          "base_uri": "https://localhost:8080/"
        },
        "id": "dJzpTh0eSWG1",
        "outputId": "3f3fb486-e710-4138-e36e-c61d935d79ee"
      },
      "source": [
        "#Observando as primeiras palavras\n",
        "print(campo[:50])"
      ],
      "execution_count": 27,
      "outputs": [
        {
          "output_type": "stream",
          "text": [
            "['this', 'process', 'however', 'afforded', 'me', 'no', 'means', 'of', 'ascertaining', 'the', 'dimensions', 'of', 'my', 'dungeon', 'as', 'i', 'might', 'make', 'its', 'circuit', 'and', 'return', 'to', 'the', 'point', 'whence', 'i', 'set', 'out', 'without', 'being', 'aware', 'of', 'the', 'fact', 'so', 'perfectly', 'uniform', 'seemed', 'the', 'wallit', 'never', 'once', 'occurred', 'to', 'me', 'that', 'the', 'fumbling', 'might']\n"
          ],
          "name": "stdout"
        }
      ]
    },
    {
      "cell_type": "code",
      "metadata": {
        "id": "DjmdZoANSbfM"
      },
      "source": [
        "def plot_palavra_frequente(words,top_n=10):\n",
        "    \"\"\"Função para traçar as frequências das palavras\"\"\"\n",
        "    word_freq = FreqDist(words)\n",
        "    labels = [element[0] for element in word_freq.most_common(top_n)]\n",
        "    counts = [element[1] for element in word_freq.most_common(top_n)]\n",
        "    plt.figure(figsize=(15,5))\n",
        "    plt.title(\"Palavras mais frequentes do corpus - incluindo STOPWORDS\")\n",
        "    plt.ylabel(\"Count\")\n",
        "    plt.xlabel(\"Word\")\n",
        "    plot = sns.barplot(labels,counts)\n",
        "    return plot"
      ],
      "execution_count": 28,
      "outputs": []
    },
    {
      "cell_type": "code",
      "metadata": {
        "colab": {
          "base_uri": "https://localhost:8080/",
          "height": 367
        },
        "id": "BlgFlWhiSdwy",
        "outputId": "ade060a8-b2ae-47a6-f010-dff18a780c53"
      },
      "source": [
        "plot_palavra_frequente(campo,20)"
      ],
      "execution_count": 29,
      "outputs": [
        {
          "output_type": "execute_result",
          "data": {
            "text/plain": [
              "<matplotlib.axes._subplots.AxesSubplot at 0x7f0f9bd18390>"
            ]
          },
          "metadata": {
            "tags": []
          },
          "execution_count": 29
        },
        {
          "output_type": "display_data",
          "data": {
            "image/png": "[encoded data removed]",
            "text/plain": [
              "<Figure size 1080x360 with 1 Axes>"
            ]
          },
          "metadata": {
            "tags": [],
            "needs_background": "light"
          }
        }
      ]
    },
    {
      "cell_type": "markdown",
      "metadata": {
        "id": "iKfcQ_bdSkoF"
      },
      "source": [
        "Você pode descobrir que, a maioria das palavras presentes aqui na lista que ocorre no topo são  (palavras de parada) e a palavra mais frequente aqui é o e isso é óbvio. Isso está de acordo com o que esperávamos - As palavras mais frequentes no campo."
      ]
    },
    {
      "cell_type": "markdown",
      "metadata": {
        "id": "pDzHs4biZHov"
      },
      "source": [
        "Link para verificar o código:\n",
        "\n",
        "`https://github.com/arthuravilez/Django-3-by-Example/blob/master/Exercicio_tarefa_trilha1.ipynb`"
      ]
    }
  ]
}